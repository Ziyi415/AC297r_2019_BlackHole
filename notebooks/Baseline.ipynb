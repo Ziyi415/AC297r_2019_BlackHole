{
 "cells": [
  {
   "cell_type": "code",
   "execution_count": 1,
   "metadata": {},
   "outputs": [],
   "source": [
    "import numpy as np\n",
    "import pandas as pd\n",
    "import warnings\n",
    "from datetime import datetime, timedelta\n",
    "from matplotlib import pyplot as plt\n",
    "\n",
    "\n",
    "warnings.filterwarnings('ignore')"
   ]
  },
  {
   "cell_type": "markdown",
   "metadata": {},
   "source": [
    "## Import Data"
   ]
  },
  {
   "cell_type": "code",
   "execution_count": 2,
   "metadata": {},
   "outputs": [],
   "source": [
    "telescopes = ['12-meter','alma','apex','aste','iram','jcmt','lmt','sma','smt','spt']"
   ]
  },
  {
   "cell_type": "code",
   "execution_count": 3,
   "metadata": {},
   "outputs": [],
   "source": [
    "starttime = datetime(2019,10,3,6)\n",
    "endtime = datetime(2019,10,14,0) # not included\n",
    "timestamps = np.arange(starttime, endtime, \n",
    "                       timedelta(hours=6)).astype(datetime)\n",
    "databook = {}\n",
    "for ts in telescopes:\n",
    "    databook[ts] = dict.fromkeys(timestamps)"
   ]
  },
  {
   "cell_type": "code",
   "execution_count": 4,
   "metadata": {},
   "outputs": [],
   "source": [
    "for ts in telescopes:\n",
    "    for t in timestamps:\n",
    "        filepath = \"data/\"+ ts +\"/\"+ t.strftime(\"%Y%m%d_%H:%M:%S\")\n",
    "        try:\n",
    "            df = pd.read_csv(filepath, delim_whitespace=True, skiprows = 1, header = None)\n",
    "            df.columns = [\"date\", \"tau225\", \"Tb[k]\", \"pwv[mm]\", \"lwp[kg*m^-2]\",\"iwp[kg*m^-2]\",\"o3[DU]\"]\n",
    "            df['date'] = pd.to_datetime(df['date'], format = \"%Y%m%d_%H:%M:%S\")\n",
    "            databook[ts][t] = df\n",
    "        except FileNotFoundError:\n",
    "            databook[ts][t] = None\n",
    "# databook is a dictionary of dictionaries of dataframes \n",
    "# keys: telescope names\n",
    "# values: dictionaries of dataframes for one telescope\n",
    "# databook[telescope_name] is a dictionary of dataframes for one telescope\n",
    "# keys: timestamps when the forecast is made\n",
    "# values: forecast dataframe (None if missing)"
   ]
  },
  {
   "cell_type": "markdown",
   "metadata": {},
   "source": [
    "## Baseline Model"
   ]
  },
  {
   "cell_type": "markdown",
   "metadata": {},
   "source": [
    "For the baseline, we do not take any uncertainty into account. We only use the latest prediction for each time. \n",
    "\n",
    "Since tau225 has a negative relationship with the photo quality, we use -tau225 here to calculate the reward based on the following steps."
   ]
  },
  {
   "cell_type": "markdown",
   "metadata": {},
   "source": [
    "**1. For each telescope, calculate their reward for the day according to their schedule.**\n"
   ]
  },
  {
   "cell_type": "markdown",
   "metadata": {},
   "source": [
    "According to the scheduling file that EHT has sent to us, we calculate the reward for each telescope only based on the following schedule provided by EHT for Tue  24 Apr 2018 (whether the telescopes will be triggered all the time as the schedule needs further confirmation)"
   ]
  },
  {
   "cell_type": "markdown",
   "metadata": {},
   "source": [
    "Station            |Obs. start time (UTC)  |    Obs end time(UTC) |     Total GBytes\n",
    "-------------------|------------------------|-----------------------|-----------------\n",
    "  ALMA             |  03:02:00              |  13:09:00             |  22830.7\n",
    "  APEX             |  03:02:00              |  15:11:00             |  26153.8\n",
    "  PICOVEL          |  03:02:00              |  07:25:00             |  8800.0\n",
    "  SPT              |  03:02:00              |  15:00:00             |  26953.8\n",
    "  LMT              |  05:53:00              |  15:45:00             |  22215.3\n",
    "  SMTO             |  07:22:00              |  15:45:00             |  18030.7\n",
    "  JCMT             |  09:42:00              |  15:45:00             |  12123.0\n",
    "  SMAP             |  09:42:00              |  15:45:00             |  12123.0"
   ]
  },
  {
   "cell_type": "markdown",
   "metadata": {},
   "source": [
    "Due to the property of our data, we approximate the time to o'clock as following:\n",
    "\n",
    "Station            |Obs. start time (UTC)  |    Obs end time(UTC) |     Total GBytes\n",
    "-------------------|------------------------|-----------------------|-----------------\n",
    "  ALMA             |  03:00:00              |  13:00:00             |  22830.7\n",
    "  APEX             |  03:00:00              |  15:00:00             |  26153.8\n",
    "  PICOVEL          |  03:00:00              |  08:00:00             |  8800.0\n",
    "  SPT              |  03:00:00              |  15:00:00             |  26953.8\n",
    "  LMT              |  06:00:00              |  16:00:00             |  22215.3\n",
    "  SMTO             |  08:00:00              |  16:00:00             |  18030.7\n",
    "  JCMT             |  10:00:00              |  16:00:00             |  12123.0\n",
    "  SMAP             |  10:00:00              |  16:00:00             |  12123.0"
   ]
  },
  {
   "cell_type": "code",
   "execution_count": 5,
   "metadata": {},
   "outputs": [],
   "source": [
    "def day_reward(telescope_name, day_current_str, end_day_str, start_time, end_time, use_as_evaluate = False):\n",
    "    # return all the weather prediction data we can get before day_current for the period (day_current, end_day)\n",
    "    \n",
    "    split_day_current = day_current_str.split('-')\n",
    "    split_day_end = end_day_str.split('-') # include this day\n",
    "    \n",
    "    day_current = datetime(int(split_day_current[0]),int(split_day_current[1]),int(split_day_current[2]),0)\n",
    "    day_end = datetime(int(split_day_end[0]),int(split_day_end[1]),int(split_day_end[2])+1,0)\n",
    "    \n",
    "    if not use_as_evaluate:\n",
    "        mask = [t < day_current for t in databook[telescope_name]]\n",
    "        t_valid = np.array([t for t in databook[telescope_name]])[mask]\n",
    "\n",
    "        df_all = pd.concat([databook[telescope_name][t] for t in t_valid], axis =0)\n",
    "    else:\n",
    "        df_all = pd.concat([databook[telescope_name][t] for t in databook[telescope_name]], axis =0)\n",
    "        \n",
    "    df_tau_all = df_all.groupby('date').agg({'tau225':lambda x: list(x)}).reset_index()\n",
    "    \n",
    "    df_tau_all['latest'] = df_tau_all['tau225'].apply(lambda x: x[-1]) # baseline only use \n",
    "    \n",
    "    \n",
    "    df_tau_all = df_tau_all[(df_tau_all.date >= day_current) & (df_tau_all.date < day_end)]\n",
    "    \n",
    "    \n",
    "    # calculate the reward for each day based on the schedule\n",
    "    df_tau_all['day'] = df_tau_all.date.apply(lambda x: str(x).split(' ')[0])\n",
    "    df_tau_all['time'] = df_tau_all.date.apply(lambda x: int(str(x).split(' ')[1][0:2]))\n",
    "    \n",
    "    df_tau_all = df_tau_all[(df_tau_all.time >= int(start_time)) & (df_tau_all.time <= int(end_time))]\n",
    "    df_tau_day = pd.DataFrame(-df_tau_all.groupby('day')['latest'].mean())\n",
    "    \n",
    "    return df_tau_day"
   ]
  },
  {
   "cell_type": "markdown",
   "metadata": {},
   "source": [
    "**2. Weighted sum the reward for each telescope according to the total Gbytes.** \n",
    "(so far we have not taken the telescopes '12-meter','aste','iram' into account as we haven't found corresponding schedule and weights)"
   ]
  },
  {
   "cell_type": "code",
   "execution_count": 6,
   "metadata": {},
   "outputs": [],
   "source": [
    "weight_telescope = [0, 22830.7, 26153.8, 0, 0, 12123.0, 22215.3, 12123.0, 18030.7, 26953.8]\n",
    "schedule_telescope = [[0,1], [3,13], [3,15], [0,1], [0,1], [10,16], [6,16], [10,16], [8,16], [3,15]]\n",
    "\n",
    "dict_schedule = dict(zip(telescopes, schedule_telescope))\n",
    "dict_weight = dict(zip(telescopes, weight_telescope))"
   ]
  },
  {
   "cell_type": "code",
   "execution_count": 7,
   "metadata": {},
   "outputs": [],
   "source": [
    "def all_day_reward(day_current_str, end_day_str):\n",
    "    telescopes_day_reward = day_reward(telescopes[0], day_current_str, end_day_str, dict_schedule[telescopes[0]][0], dict_schedule[telescopes[0]][1]) * dict_weight[telescopes[0]]\n",
    "    for i in telescopes[1:]:\n",
    "        telescopes_day_reward += day_reward(i, day_current_str, end_day_str, dict_schedule[i][0], dict_schedule[i][1]) * dict_weight[i]\n",
    "    return telescopes_day_reward"
   ]
  },
  {
   "cell_type": "markdown",
   "metadata": {},
   "source": [
    "**3. Choose the optimal N days and also return whether triggering today or not**"
   ]
  },
  {
   "cell_type": "code",
   "execution_count": 8,
   "metadata": {},
   "outputs": [],
   "source": [
    "# for future uncertainty, revise this function to return more information\n",
    "def decision_making(day_current_str, end_day_str, days_to_trigger):\n",
    "    # day_current_str: YYYY-MM-DD (str) (included)\n",
    "    # end_day_str: YYYY-MM-DD (str) (included)\n",
    "    # days_to_trigger: days to trigger (int)\n",
    "    days_to_trigger = all_day_reward(day_current_str, end_day_str).sort_values(by='latest', ascending=False)[:days_to_trigger].index\n",
    "    if day_current_str in days_to_trigger:\n",
    "        print('We suggest triggering on today')\n",
    "    else: \n",
    "        print('We DO NOT suggest triggering on today')\n",
    "    print('And we suggest to trigger by the following sequence: {}'.format(np.array(sorted(days_to_trigger))))"
   ]
  },
  {
   "cell_type": "markdown",
   "metadata": {},
   "source": [
    "So far we do not automatically count down the remaining days because we want to keep enough flexibility for EHT as the remaining days might not follow what we suggest as the real application might have unexpected conditions."
   ]
  },
  {
   "cell_type": "markdown",
   "metadata": {},
   "source": [
    "**4. Model Evaluation**"
   ]
  },
  {
   "cell_type": "code",
   "execution_count": 9,
   "metadata": {},
   "outputs": [],
   "source": [
    "def best_path_afterwards(start_day_str, end_day_str, days_to_trigger, days_have_triggered = None):\n",
    "    # start_day_str: YYYY-MM-DD (str) (included)\n",
    "    # end_day_str: YYYY-MM-DD (str) (included)\n",
    "    # days_to_trigger: days to trigger (int)\n",
    "    # days_have_triggered: days acutally triggered (list of str)\n",
    "    telescopes_day_reward = day_reward(telescopes[0], start_day_str, end_day_str, dict_schedule[telescopes[0]][0], dict_schedule[telescopes[0]][1], use_as_evaluate=True) * dict_weight[telescopes[0]]\n",
    "    for i in telescopes[1:]:\n",
    "        telescopes_day_reward += day_reward(i, start_day_str, end_day_str, dict_schedule[i][0], dict_schedule[i][1], use_as_evaluate=True) * dict_weight[i]\n",
    "    \n",
    "    all_path = telescopes_day_reward.sort_values(by='latest', ascending = False)\n",
    "    best_path = all_path[:days_to_trigger]\n",
    "    print('The best path to trigger based on ground-truth is {}'.format(np.array(sorted(best_path.index))))\n",
    "    print('The total reward based on best path is {}'.format(best_path['latest'].sum()))\n",
    "    if days_have_triggered is not None:\n",
    "        print('The total reward based on real path is {}'.format(all_path.loc[days_have_triggered]['latest'].sum()))\n",
    "    return all_path"
   ]
  },
  {
   "cell_type": "markdown",
   "metadata": {},
   "source": [
    "**5. Use baseline model in a Case** (choose 5 days from 10 days between 10.5 ~ 10.14)"
   ]
  },
  {
   "cell_type": "markdown",
   "metadata": {},
   "source": [
    "**On day1 (10.05)**: `Trigger`"
   ]
  },
  {
   "cell_type": "code",
   "execution_count": 10,
   "metadata": {},
   "outputs": [
    {
     "name": "stdout",
     "output_type": "stream",
     "text": [
      "We suggest triggering on today\n",
      "And we suggest to trigger by the following sequence: ['2019-10-05' '2019-10-06' '2019-10-07' '2019-10-10' '2019-10-14']\n"
     ]
    }
   ],
   "source": [
    "decision_making('2019-10-05', '2019-10-14', 5)"
   ]
  },
  {
   "cell_type": "markdown",
   "metadata": {},
   "source": [
    "**On day2 (10.06)**: Not Trigger"
   ]
  },
  {
   "cell_type": "code",
   "execution_count": 11,
   "metadata": {},
   "outputs": [
    {
     "name": "stdout",
     "output_type": "stream",
     "text": [
      "We DO NOT suggest triggering on today\n",
      "And we suggest to trigger by the following sequence: ['2019-10-07' '2019-10-09' '2019-10-11' '2019-10-13']\n"
     ]
    }
   ],
   "source": [
    "decision_making('2019-10-06', '2019-10-14', 4)"
   ]
  },
  {
   "cell_type": "markdown",
   "metadata": {},
   "source": [
    "**On day3 (10.07)**: `Trigger`"
   ]
  },
  {
   "cell_type": "code",
   "execution_count": 12,
   "metadata": {},
   "outputs": [
    {
     "name": "stdout",
     "output_type": "stream",
     "text": [
      "We suggest triggering on today\n",
      "And we suggest to trigger by the following sequence: ['2019-10-07' '2019-10-08' '2019-10-09' '2019-10-11']\n"
     ]
    }
   ],
   "source": [
    "decision_making('2019-10-07', '2019-10-14', 4)"
   ]
  },
  {
   "cell_type": "markdown",
   "metadata": {},
   "source": [
    "**On day4 (10.08)**: Not Trigger"
   ]
  },
  {
   "cell_type": "code",
   "execution_count": 13,
   "metadata": {},
   "outputs": [
    {
     "name": "stdout",
     "output_type": "stream",
     "text": [
      "We DO NOT suggest triggering on today\n",
      "And we suggest to trigger by the following sequence: ['2019-10-09' '2019-10-13' '2019-10-14']\n"
     ]
    }
   ],
   "source": [
    "decision_making('2019-10-08', '2019-10-14', 3)"
   ]
  },
  {
   "cell_type": "markdown",
   "metadata": {},
   "source": [
    "**On day5 (10.09)**: `Trigger`"
   ]
  },
  {
   "cell_type": "code",
   "execution_count": 14,
   "metadata": {},
   "outputs": [
    {
     "name": "stdout",
     "output_type": "stream",
     "text": [
      "We suggest triggering on today\n",
      "And we suggest to trigger by the following sequence: ['2019-10-09' '2019-10-13' '2019-10-14']\n"
     ]
    }
   ],
   "source": [
    "decision_making('2019-10-09', '2019-10-14', 3)"
   ]
  },
  {
   "cell_type": "markdown",
   "metadata": {},
   "source": [
    "**On day6 (10.10)**: Not Trigger"
   ]
  },
  {
   "cell_type": "code",
   "execution_count": 15,
   "metadata": {},
   "outputs": [
    {
     "name": "stdout",
     "output_type": "stream",
     "text": [
      "We DO NOT suggest triggering on today\n",
      "And we suggest to trigger by the following sequence: ['2019-10-13' '2019-10-14']\n"
     ]
    }
   ],
   "source": [
    "decision_making('2019-10-10', '2019-10-14', 2)"
   ]
  },
  {
   "cell_type": "markdown",
   "metadata": {},
   "source": [
    "**On day7 (10.11)**: Not Trigger"
   ]
  },
  {
   "cell_type": "code",
   "execution_count": 16,
   "metadata": {},
   "outputs": [
    {
     "name": "stdout",
     "output_type": "stream",
     "text": [
      "We DO NOT suggest triggering on today\n",
      "And we suggest to trigger by the following sequence: ['2019-10-13' '2019-10-14']\n"
     ]
    }
   ],
   "source": [
    "decision_making('2019-10-11', '2019-10-14', 2)"
   ]
  },
  {
   "cell_type": "markdown",
   "metadata": {},
   "source": [
    "**On day8 (10.12)**: `Trigger`"
   ]
  },
  {
   "cell_type": "code",
   "execution_count": 17,
   "metadata": {},
   "outputs": [
    {
     "name": "stdout",
     "output_type": "stream",
     "text": [
      "We suggest triggering on today\n",
      "And we suggest to trigger by the following sequence: ['2019-10-12' '2019-10-13']\n"
     ]
    }
   ],
   "source": [
    "decision_making('2019-10-12', '2019-10-14', 2)"
   ]
  },
  {
   "cell_type": "markdown",
   "metadata": {},
   "source": [
    "**On day9 (10.13)**: `Trigger`"
   ]
  },
  {
   "cell_type": "code",
   "execution_count": 18,
   "metadata": {},
   "outputs": [
    {
     "name": "stdout",
     "output_type": "stream",
     "text": [
      "We suggest triggering on today\n",
      "And we suggest to trigger by the following sequence: ['2019-10-13']\n"
     ]
    }
   ],
   "source": [
    "decision_making('2019-10-13', '2019-10-14', 1)"
   ]
  },
  {
   "cell_type": "markdown",
   "metadata": {},
   "source": [
    "**On day10 (10.14)**: Have no days to trigger"
   ]
  },
  {
   "cell_type": "markdown",
   "metadata": {},
   "source": [
    "In conclusion, the real-path we suggest to trigger is:"
   ]
  },
  {
   "cell_type": "code",
   "execution_count": 19,
   "metadata": {},
   "outputs": [],
   "source": [
    "real_path = ['2019-10-05','2019-10-07','2019-10-09','2019-10-12','2019-10-13']"
   ]
  },
  {
   "cell_type": "markdown",
   "metadata": {},
   "source": [
    "**Model Evaluation**"
   ]
  },
  {
   "cell_type": "code",
   "execution_count": 20,
   "metadata": {},
   "outputs": [
    {
     "name": "stdout",
     "output_type": "stream",
     "text": [
      "The best path to trigger based on ground-truth is ['2019-10-05' '2019-10-06' '2019-10-09' '2019-10-11' '2019-10-13']\n",
      "The total reward based on best path is -54244.05535937293\n",
      "The total reward based on real path is -4260443.875346138\n"
     ]
    }
   ],
   "source": [
    "all_state = best_path_afterwards('2019-10-05', '2019-10-14', 5, days_have_triggered = real_path)"
   ]
  }
 ],
 "metadata": {
  "kernelspec": {
   "display_name": "Python 3",
   "language": "python",
   "name": "python3"
  },
  "language_info": {
   "codemirror_mode": {
    "name": "ipython",
    "version": 3
   },
   "file_extension": ".py",
   "mimetype": "text/x-python",
   "name": "python",
   "nbconvert_exporter": "python",
   "pygments_lexer": "ipython3",
   "version": "3.7.3"
  }
 },
 "nbformat": 4,
 "nbformat_minor": 2
}
