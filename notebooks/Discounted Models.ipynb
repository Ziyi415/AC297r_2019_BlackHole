{
 "cells": [
  {
   "cell_type": "markdown",
   "metadata": {},
   "source": [
    "## Import Data"
   ]
  },
  {
   "cell_type": "code",
   "execution_count": 1,
   "metadata": {},
   "outputs": [],
   "source": [
    "import numpy as np\n",
    "import pandas as pd\n",
    "import warnings\n",
    "from datetime import datetime, timedelta\n",
    "from matplotlib import pyplot as plt\n",
    "\n",
    "\n",
    "warnings.filterwarnings('ignore')## Import Data## Import Data"
   ]
  },
  {
   "cell_type": "markdown",
   "metadata": {},
   "source": [
    "## Import Data"
   ]
  },
  {
   "cell_type": "code",
   "execution_count": 2,
   "metadata": {},
   "outputs": [],
   "source": [
    "telescopes = ['12-meter','alma','apex','aste','iram','jcmt','lmt','sma','smt','spt']"
   ]
  },
  {
   "cell_type": "code",
   "execution_count": 3,
   "metadata": {},
   "outputs": [],
   "source": [
    "starttime = datetime(2019,10,3,6)\n",
    "endtime = datetime(2019,10,14,0) # not included\n",
    "timestamps = np.arange(starttime, endtime, \n",
    "                       timedelta(hours=6)).astype(datetime)\n",
    "databook = {}\n",
    "for ts in telescopes:\n",
    "    databook[ts] = dict.fromkeys(timestamps)"
   ]
  },
  {
   "cell_type": "code",
   "execution_count": 4,
   "metadata": {},
   "outputs": [],
   "source": [
    "for ts in telescopes:\n",
    "    for t in timestamps:\n",
    "        filepath = \"data/\"+ ts +\"/\"+ t.strftime(\"%Y%m%d_%H:%M:%S\")\n",
    "        try:\n",
    "            df = pd.read_csv(filepath, delim_whitespace=True, skiprows = 1, header = None)\n",
    "            df.columns = [\"date\", \"tau225\", \"Tb[k]\", \"pwv[mm]\", \"lwp[kg*m^-2]\",\"iwp[kg*m^-2]\",\"o3[DU]\"]\n",
    "            df['date'] = pd.to_datetime(df['date'], format = \"%Y%m%d_%H:%M:%S\")\n",
    "            databook[ts][t] = df\n",
    "        except FileNotFoundError:\n",
    "            databook[ts][t] = None\n",
    "# databook is a dictionary of dictionaries of dataframes \n",
    "# keys: telescope names\n",
    "# values: dictionaries of dataframes for one telescope\n",
    "# databook[telescope_name] is a dictionary of dataframes for one telescope\n",
    "# keys: timestamps when the forecast is made\n",
    "# values: forecast dataframe (None if missing)"
   ]
  },
  {
   "cell_type": "markdown",
   "metadata": {},
   "source": [
    "For the baseline model, we calculate the reward function for each telescope on each day using $$f(D, R) = -\\frac{1}{T(R)}\\sum_{t = 1}^{T(R)}{\\tau_{225}(D, t)},$$ where $D$ is the date we are looking at for the weather forecast, $R$ is refers to the specific telescope, and $T(R)$ is the number of times forecasts being made in the telescope's observation timeframe. For each day, we calculate the day's reward by combining the telescopes' rewards in weighted average. $$F(D) = \\sum_{i = 1}^N{W_{R_i}\\times f(D, R_i)}.$$ Then we make decisions on whether to trigger the day based on the pure values of $F(D)$.\n",
    "\n",
    "In the discounted model, we calculate $$F(D, r) = {\\sum_{i = 1}^N{W_{R_i}\\times f(D, R_i)}}\\times{(1+r)^D},$$ where $r$ is the discount factor and then make decisions on $F(D,r)$. We multiply rather than divide here because the value is negative. We are going to experiment with different fixed value of $r$, and a function of $r$ depending on the variances in the forecasts, and compare the results with the ground-truth optimal path."
   ]
  },
  {
   "cell_type": "code",
   "execution_count": 10,
   "metadata": {},
   "outputs": [],
   "source": [
    "def day_reward(telescope_name, day_current_str, end_day_str, start_time, end_time, \\\n",
    "            use_as_evaluate = False):\n",
    "    '''\n",
    "    For the specified telescope, return a dataframe with two columns.\n",
    "    The first column tells the day in the day window between \n",
    "        day_current_str and end_day_str (inclusive).\n",
    "    The second column tells the average predicted tao225 given the day and the time window between\n",
    "        start_time and end_time (inclusive).\n",
    "    \n",
    "    '''\n",
    "    split_day_current = day_current_str.split('-')\n",
    "    split_day_end = end_day_str.split('-') # include this day\n",
    "    \n",
    "    day_current = datetime(int(split_day_current[0]),int(split_day_current[1]),int(split_day_current[2]),0)\n",
    "    day_end = datetime(int(split_day_end[0]),int(split_day_end[1]),int(split_day_end[2])+1,0)\n",
    "    \n",
    "    if not use_as_evaluate:\n",
    "        mask = [t < day_current for t in databook[telescope_name]]\n",
    "        t_valid = np.array([t for t in databook[telescope_name]])[mask]\n",
    "\n",
    "        df_all = pd.concat([databook[telescope_name][t] for t in t_valid], axis =0)\n",
    "    else:\n",
    "        df_all = pd.concat([databook[telescope_name][t] for t in databook[telescope_name]], axis =0)\n",
    "        \n",
    "    df_tau_all = df_all.groupby('date').agg({'tau225':lambda x: list(x)}).reset_index()\n",
    "    \n",
    "    df_tau_all['latest'] = df_tau_all['tau225'].apply(lambda x: x[-1]) # baseline only use \n",
    "    \n",
    "    \n",
    "    df_tau_all = df_tau_all[(df_tau_all.date >= day_current) & (df_tau_all.date < day_end)]\n",
    "    \n",
    "    \n",
    "    # calculate the reward for each day based on the schedule\n",
    "    df_tau_all['day'] = df_tau_all.date.apply(lambda x: str(x).split(' ')[0])\n",
    "    df_tau_all['time'] = df_tau_all.date.apply(lambda x: int(str(x).split(' ')[1][0:2]))\n",
    "    \n",
    "    df_tau_all = df_tau_all[(df_tau_all.time >= int(start_time)) & (df_tau_all.time <= int(end_time))]\n",
    "    df_tau_day = pd.DataFrame(-df_tau_all.groupby('day')['latest'].mean())\n",
    "    \n",
    "    return df_tau_day"
   ]
  },
  {
   "cell_type": "markdown",
   "metadata": {},
   "source": [
    "**2. Weighted sum the reward for each telescope according to the total Gbytes.** \n",
    "(so far we have not taken the telescopes '12-meter','aste','iram' into account as we haven't found corresponding schedule and weights)"
   ]
  },
  {
   "cell_type": "code",
   "execution_count": 12,
   "metadata": {},
   "outputs": [],
   "source": [
    "# weight_telescope = [0, 22830.7, 26153.8, 0, 0, 12123.0, 22215.3, 12123.0, 18030.7, 26953.8]\n",
    "\n",
    "# using the area (radius ** 2) of the telescope as weights \n",
    "weight_telescope = [12**2, 73**2, 12**2, 10**2, 30**2, 15**2, 32.5**2, 14.7**2, 10**2, 6**2]\n",
    "schedule_telescope = [[0,1], [3,13], [3,15], [0,1], [0,1], [10,16], [6,16], [10,16], [8,16], [3,15]]\n",
    "\n",
    "\n",
    "dict_schedule = dict(zip(telescopes, schedule_telescope))\n",
    "dict_weight = dict(zip(telescopes, weight_telescope))"
   ]
  },
  {
   "cell_type": "code",
   "execution_count": 16,
   "metadata": {},
   "outputs": [],
   "source": [
    "def all_day_reward(day_current_str, end_day_str):\n",
    "    \"\"\"\n",
    "    calculate F(D) for D in range(day_current_str, end_day_str)\n",
    "    \"\"\"\n",
    "    telescopes_day_reward = day_reward(telescopes[0], day_current_str, end_day_str, dict_schedule[telescopes[0]][0], dict_schedule[telescopes[0]][1]) * dict_weight[telescopes[0]]\n",
    "    for i in telescopes[1:]:\n",
    "        telescopes_day_reward += day_reward(i, day_current_str, end_day_str, dict_schedule[i][0], dict_schedule[i][1]) * dict_weight[i]\n",
    "    return telescopes_day_reward"
   ]
  },
  {
   "cell_type": "code",
   "execution_count": 51,
   "metadata": {},
   "outputs": [],
   "source": [
    "def decision_making_single_discount_factor(day_current_str, end_day_str, days_to_trigger, discount = 0):\n",
    "    # day_current_str: YYYY-MM-DD (str) (included)\n",
    "    # end_day_str: YYYY-MM-DD (str) (included)\n",
    "    # days_to_trigger: days to trigger (int)\n",
    "    each_day_reward = all_day_reward(day_current_str, end_day_str)\n",
    "    \n",
    "    # inflate the values on each day\n",
    "    a = np.array([n * ((1 + 0.1) ** i) for i, n in enumerate(each_day_reward['latest'])])\n",
    "    \n",
    "    # select the 'days_to_trigger' number of days having maximum reward values\n",
    "    days_to_trigger = np.array(each_day_reward.index)[np.argsort(a)[-1:-days_to_trigger-1:-1]]\n",
    "    if day_current_str in days_to_trigger:\n",
    "        print('We suggest triggering on today')\n",
    "    else: \n",
    "        print('We DO NOT suggest triggering on today')\n",
    "    print('And we suggest to trigger by the following sequence: {}'.format(np.array(sorted(days_to_trigger))))"
   ]
  },
  {
   "cell_type": "code",
   "execution_count": 35,
   "metadata": {},
   "outputs": [
    {
     "data": {
      "text/plain": [
       "array([-6.80036926e+02, -9.71353514e+02, -1.04245207e+03, -1.49160400e+03,\n",
       "       -1.98844800e+03, -2.18286329e+03, -2.19553177e+03, -1.11348802e+05,\n",
       "       -2.33361825e+06])"
      ]
     },
     "execution_count": 35,
     "metadata": {},
     "output_type": "execute_result"
    }
   ],
   "source": [
    "each_day_reward = all_day_reward('2019-10-06', '2019-10-14')['latest']\n",
    "a = np.array([n * ((1 + 0.1) ** i) for i, n in enumerate(each_day_reward)])\n",
    "a[np.argsort(a)[::-1]]"
   ]
  },
  {
   "cell_type": "code",
   "execution_count": 38,
   "metadata": {},
   "outputs": [
    {
     "data": {
      "text/plain": [
       "array([1, 3, 4, 5])"
      ]
     },
     "execution_count": 38,
     "metadata": {},
     "output_type": "execute_result"
    }
   ],
   "source": [
    "np.argsort(a)[-1:-5:-1]"
   ]
  },
  {
   "cell_type": "code",
   "execution_count": 50,
   "metadata": {},
   "outputs": [
    {
     "data": {
      "text/plain": [
       "array(['2019-10-07', '2019-10-09', '2019-10-10', '2019-10-11'],\n",
       "      dtype=object)"
      ]
     },
     "execution_count": 50,
     "metadata": {},
     "output_type": "execute_result"
    }
   ],
   "source": [
    "np.array(each_day_reward.index)[np.argsort(a)[-1:-5:-1]]"
   ]
  },
  {
   "cell_type": "code",
   "execution_count": 59,
   "metadata": {},
   "outputs": [
    {
     "name": "stdout",
     "output_type": "stream",
     "text": [
      "We suggest triggering on today\n",
      "And we suggest to trigger by the following sequence: ['2019-10-05' '2019-10-06' '2019-10-07' '2019-10-10' '2019-10-14']\n"
     ]
    }
   ],
   "source": [
    "decision_making_single_discount_factor('2019-10-05', '2019-10-14', 5, 0.2)"
   ]
  },
  {
   "cell_type": "code",
   "execution_count": 60,
   "metadata": {},
   "outputs": [
    {
     "name": "stdout",
     "output_type": "stream",
     "text": [
      "We DO NOT suggest triggering on today\n",
      "And we suggest to trigger by the following sequence: ['2019-10-07' '2019-10-09' '2019-10-10' '2019-10-11']\n"
     ]
    }
   ],
   "source": [
    "decision_making_single_discount_factor('2019-10-06', '2019-10-14', 4, 0.2)"
   ]
  },
  {
   "cell_type": "code",
   "execution_count": null,
   "metadata": {},
   "outputs": [],
   "source": [
    "decision_making_single_discount_factor('2019-10-06', '2019-10-14', 4, 0.2)"
   ]
  }
 ],
 "metadata": {
  "kernelspec": {
   "display_name": "Python 3",
   "language": "python",
   "name": "python3"
  },
  "language_info": {
   "codemirror_mode": {
    "name": "ipython",
    "version": 3
   },
   "file_extension": ".py",
   "mimetype": "text/x-python",
   "name": "python",
   "nbconvert_exporter": "python",
   "pygments_lexer": "ipython3",
   "version": "3.7.3"
  }
 },
 "nbformat": 4,
 "nbformat_minor": 2
}
