{
 "cells": [
  {
   "cell_type": "code",
   "execution_count": 1,
   "metadata": {},
   "outputs": [],
   "source": [
    "import numpy as np\n",
    "import pandas as pd\n",
    "import warnings\n",
    "from datetime import datetime, timedelta\n",
    "from matplotlib import pyplot as plt\n",
    "\n",
    "\n",
    "warnings.filterwarnings('ignore')"
   ]
  },
  {
   "cell_type": "markdown",
   "metadata": {},
   "source": [
    "For the baseline model, we calculate the reward function for each telescope on each day using $$f(D, R) = -\\frac{1}{T(R)}\\sum_{t = 1}^{T(R)}{\\tau_{225}(D, t)},$$ where $D$ is the date we are looking at for the weather forecast, $R$ refers to the specific telescope, and $T(R)$ is the number of times forecasts being made in the telescope's observation timeframe. For each day, we calculate the day's reward by combining the telescopes' rewards in weighted average. $$F(D) = \\sum_{i = 1}^N{W_{R_i}\\times f(D, R_i)}.$$ Then we make decisions on whether to trigger the day based on the pure values of $F(D)$.\n",
    "\n",
    "In the discounted (punishment for uncertainty) model, we calculate $$F(D, r) = {\\sum_{i = 1}^N{W_{R_i}\\times f(D, R_i)}}\\times{(1+r)^D},$$ where $r$ is the punish level and then make decisions on $F(D,r)$. We multiply rather than divide here because the value is negative. We are going to experiment with different fixed value of $r$, and a function of $r$ depending on the standard deviations in the forecasts, and compare the results with the ground-truth optimal path.\n",
    "\n",
    "We also experimented with different weights. In the baseline model, we were using the output  file size as a measure of how important each telescope is. In the discounted model, we adjusted the weights by using the area of the telescope. We further scaled all $F(D, r)$ to be a weighted average of $f(D, R_i)$, by letting $W_{R_i}$ be the proportion of telescope $R_i$'s area in the total area. By doing this, we think the output can be more interpretable.\n",
    "\n",
    "When we do evaluations, we are essentially looking backwards. Therefore, we directly calculate the scores without the discount factor $r$, for both the ground-truth path and our suggested path. The score given to any path $P$ is going to be \n",
    "$$e^{ \\sum_{j=1}^{\\text{Days}}{F(D_{P,j})}}$$\n",
    "$$(\\text{We also tried} \\frac{2}{1 + e^{- \\sum_{j=1}^{\\text{Days}}{F(D_{P,j})}}})$$\n",
    "where $D_{P,j}$ is the $j$-th day selected by the path $P$. We have $2$ in the numerator, because the sigmoid function will give us values from 0 to 0.5 based on our negative $F$ values and we want to get scores from 0 to 1.\n"
   ]
  },
  {
   "cell_type": "markdown",
   "metadata": {},
   "source": [
    "## Import Data"
   ]
  },
  {
   "cell_type": "code",
   "execution_count": 2,
   "metadata": {},
   "outputs": [],
   "source": [
    "telescopes = ['12-meter','alma','apex','aste','iram','jcmt','lmt','sma','smt','spt']"
   ]
  },
  {
   "cell_type": "code",
   "execution_count": 3,
   "metadata": {},
   "outputs": [],
   "source": [
    "starttime = datetime(2019,10,24,6)\n",
    "endtime = datetime(2019,11,3,18) # not included\n",
    "timestamps = np.arange(starttime, endtime, \n",
    "                       timedelta(hours=6)).astype(datetime)\n",
    "databook = {}\n",
    "for ts in telescopes:\n",
    "    databook[ts] = dict.fromkeys(timestamps)"
   ]
  },
  {
   "cell_type": "code",
   "execution_count": 4,
   "metadata": {},
   "outputs": [],
   "source": [
    "for ts in telescopes:\n",
    "    for t in timestamps:\n",
    "        filepath = \"data/\"+ ts +\"/\"+ t.strftime(\"%Y%m%d_%H:%M:%S\")\n",
    "        try:\n",
    "            df = pd.read_csv(filepath, delim_whitespace=True, skiprows = 1, header = None)\n",
    "            df.columns = [\"date\", \"tau225\", \"Tb[k]\", \"pwv[mm]\", \"lwp[kg*m^-2]\",\"iwp[kg*m^-2]\",\"o3[DU]\"]\n",
    "            df['date'] = pd.to_datetime(df['date'], format = \"%Y%m%d_%H:%M:%S\")\n",
    "            databook[ts][t] = df\n",
    "        except FileNotFoundError:\n",
    "            databook[ts][t] = None\n",
    "# databook is a dictionary of dictionaries of dataframes \n",
    "# keys: telescope names\n",
    "# values: dictionaries of dataframes for one telescope\n",
    "# databook[telescope_name] is a dictionary of dataframes for one telescope\n",
    "# keys: timestamps when the forecast is made\n",
    "# values: forecast dataframe (None if missing)"
   ]
  },
  {
   "cell_type": "code",
   "execution_count": 5,
   "metadata": {},
   "outputs": [],
   "source": [
    "# ################## fake data ###################\n",
    "# actual_time_span = np.arange(datetime(2019,7,1,0), datetime(2019,10,22,6), \n",
    "#                        timedelta(hours=6)).astype(datetime)\n",
    "\n",
    "# i = 0\n",
    "# for site in telescopes:\n",
    "#     for t in timestamps:\n",
    "#         actual_time = actual_time_span[i]\n",
    "#         time_delta = t - actual_time\n",
    "#         filepath = \"data/MaunaKea/\"+ actual_time.strftime(\"%Y%m%d_%H:%M:%S\")\n",
    "#         df = pd.read_csv(filepath, delim_whitespace=True, skiprows = 1, header = None)\n",
    "#         df.columns = [\"date\", \"tau225\", \"Tb[k]\", \"pwv[mm]\", \"lwp[kg*m^-2]\",\"iwp[kg*m^-2]\",\"o3[DU]\"]\n",
    "#         df['date'] = pd.to_datetime(df['date'], format = \"%Y%m%d_%H:%M:%S\") + time_delta\n",
    "#         databook[site][t] = df\n",
    "#         i += 1"
   ]
  },
  {
   "cell_type": "code",
   "execution_count": 5,
   "metadata": {
    "scrolled": true
   },
   "outputs": [
    {
     "name": "stdout",
     "output_type": "stream",
     "text": [
      "12-meter 2019-10-24 12:00:00\n"
     ]
    },
    {
     "data": {
      "text/html": [
       "<div>\n",
       "<style scoped>\n",
       "    .dataframe tbody tr th:only-of-type {\n",
       "        vertical-align: middle;\n",
       "    }\n",
       "\n",
       "    .dataframe tbody tr th {\n",
       "        vertical-align: top;\n",
       "    }\n",
       "\n",
       "    .dataframe thead th {\n",
       "        text-align: right;\n",
       "    }\n",
       "</style>\n",
       "<table border=\"1\" class=\"dataframe\">\n",
       "  <thead>\n",
       "    <tr style=\"text-align: right;\">\n",
       "      <th></th>\n",
       "      <th>date</th>\n",
       "      <th>tau225</th>\n",
       "      <th>Tb[k]</th>\n",
       "      <th>pwv[mm]</th>\n",
       "      <th>lwp[kg*m^-2]</th>\n",
       "      <th>iwp[kg*m^-2]</th>\n",
       "      <th>o3[DU]</th>\n",
       "    </tr>\n",
       "  </thead>\n",
       "  <tbody>\n",
       "    <tr>\n",
       "      <th>0</th>\n",
       "      <td>2019-10-24 12:00:00</td>\n",
       "      <td>0.31668</td>\n",
       "      <td>79.716</td>\n",
       "      <td>5.9495</td>\n",
       "      <td>0.0</td>\n",
       "      <td>0.0</td>\n",
       "      <td>282.59</td>\n",
       "    </tr>\n",
       "    <tr>\n",
       "      <th>1</th>\n",
       "      <td>2019-10-24 13:00:00</td>\n",
       "      <td>0.32052</td>\n",
       "      <td>80.388</td>\n",
       "      <td>5.9895</td>\n",
       "      <td>0.0</td>\n",
       "      <td>0.0</td>\n",
       "      <td>281.08</td>\n",
       "    </tr>\n",
       "    <tr>\n",
       "      <th>2</th>\n",
       "      <td>2019-10-24 14:00:00</td>\n",
       "      <td>0.28490</td>\n",
       "      <td>73.006</td>\n",
       "      <td>5.3674</td>\n",
       "      <td>0.0</td>\n",
       "      <td>0.0</td>\n",
       "      <td>281.57</td>\n",
       "    </tr>\n",
       "    <tr>\n",
       "      <th>3</th>\n",
       "      <td>2019-10-24 15:00:00</td>\n",
       "      <td>0.25685</td>\n",
       "      <td>67.094</td>\n",
       "      <td>4.8535</td>\n",
       "      <td>0.0</td>\n",
       "      <td>0.0</td>\n",
       "      <td>283.75</td>\n",
       "    </tr>\n",
       "    <tr>\n",
       "      <th>4</th>\n",
       "      <td>2019-10-24 16:00:00</td>\n",
       "      <td>0.23848</td>\n",
       "      <td>63.162</td>\n",
       "      <td>4.5244</td>\n",
       "      <td>0.0</td>\n",
       "      <td>0.0</td>\n",
       "      <td>285.60</td>\n",
       "    </tr>\n",
       "  </tbody>\n",
       "</table>\n",
       "</div>"
      ],
      "text/plain": [
       "                 date   tau225   Tb[k]  pwv[mm]  lwp[kg*m^-2]  iwp[kg*m^-2]  \\\n",
       "0 2019-10-24 12:00:00  0.31668  79.716   5.9495           0.0           0.0   \n",
       "1 2019-10-24 13:00:00  0.32052  80.388   5.9895           0.0           0.0   \n",
       "2 2019-10-24 14:00:00  0.28490  73.006   5.3674           0.0           0.0   \n",
       "3 2019-10-24 15:00:00  0.25685  67.094   4.8535           0.0           0.0   \n",
       "4 2019-10-24 16:00:00  0.23848  63.162   4.5244           0.0           0.0   \n",
       "\n",
       "   o3[DU]  \n",
       "0  282.59  \n",
       "1  281.08  \n",
       "2  281.57  \n",
       "3  283.75  \n",
       "4  285.60  "
      ]
     },
     "execution_count": 5,
     "metadata": {},
     "output_type": "execute_result"
    }
   ],
   "source": [
    "print(telescopes[0],timestamps[1])\n",
    "(databook[telescopes[0]][timestamps[1]]).head()"
   ]
  },
  {
   "cell_type": "markdown",
   "metadata": {},
   "source": [
    "## Compute Standard Deviation"
   ]
  },
  {
   "cell_type": "markdown",
   "metadata": {},
   "source": [
    "core: \n",
    "- the larger the punishment level is, the larger the difference between smaller and larger Standard Deviation (in terms of ratio)\n",
    "- when punishment_level = 0, all effect of Standard Deviations should be 1.\n",
    "- Stand Deviation can be both <1 and >1, so $\\text{Standard Deviation}^{\\text{punish_level}}$ does not work.\n",
    "\n",
    "So far we use:\n",
    "$$e^{\\text{Standard Deviation} * \\text{punish_level}}$$"
   ]
  },
  {
   "cell_type": "markdown",
   "metadata": {},
   "source": [
    "1. Standard Deviation v.s. date of prediction"
   ]
  },
  {
   "cell_type": "markdown",
   "metadata": {},
   "source": [
    "2. Standard Deviation v.s. number of days forward (ideally using historical data to prevent information leak)"
   ]
  },
  {
   "cell_type": "code",
   "execution_count": 6,
   "metadata": {},
   "outputs": [],
   "source": [
    "# columns are the timestamps when predictions were made, indices are timestamps that're being predicted\n",
    "std_dict = {}\n",
    "for site in telescopes:\n",
    "    data_telescope = databook[site]\n",
    "    df_tau225 = pd.concat([data_telescope[t].set_index('date')['tau225'] for t in data_telescope if data_telescope[t] is not None],axis = 1)\n",
    "    df_tau225.columns = [t for t in data_telescope if data_telescope[t] is not None]\n",
    "\n",
    "    # use df_mask to record the number of days forward (index - col) for each prediction\n",
    "    df_mask = pd.DataFrame(index = df_tau225.index, columns = df_tau225.columns)\n",
    "    for col in df_tau225.columns:\n",
    "        df_mask[col] = (df_tau225.index - col).days\n",
    "\n",
    "    # get 'true' tau225 value, which is the closest prediction within a day\n",
    "    true_tau225 = pd.Series(index = df_tau225.index)\n",
    "    for idx in df_tau225.index:\n",
    "        values = df_tau225.loc[idx]\n",
    "        true_tau225[idx] = values.values[~values.isna()][-1]\n",
    "\n",
    "    # compute standard error v.s. # days forward\n",
    "    df_diff = (df_tau225.T - true_tau225).T\n",
    "    std = []\n",
    "    for i in range(1, df_mask.max().max()+1):\n",
    "        std.append((np.nanmean(df_diff[df_mask==i].values ** 2))**(1/2))\n",
    "    \n",
    "    std_dict[site] = std[:10]"
   ]
  },
  {
   "cell_type": "markdown",
   "metadata": {},
   "source": [
    "## Define Model"
   ]
  },
  {
   "cell_type": "code",
   "execution_count": 24,
   "metadata": {},
   "outputs": [],
   "source": [
    "def day_reward(telescope_name, day_current_str, end_day_str, start_time, end_time, \\\n",
    "            use_as_evaluate = False, time_std = False, furthure_std = False, punish_level = 1):\n",
    "    '''\n",
    "    For the specified telescope, return a dataframe with two columns.\n",
    "    The first column tells the day in the day window between \n",
    "        day_current_str and end_day_str (inclusive).\n",
    "    The second column tells the average predicted tao225 given the day and the time window between\n",
    "        start_time and end_time (inclusive).\n",
    "    \n",
    "    '''\n",
    "    split_day_current = day_current_str.split('-')\n",
    "    split_day_end = end_day_str.split('-') # include this day\n",
    "    \n",
    "    day_current = datetime(int(split_day_current[0]),int(split_day_current[1]),int(split_day_current[2]),0)\n",
    "    day_end = datetime(int(split_day_end[0]),int(split_day_end[1]),int(split_day_end[2])+1,0)\n",
    "    \n",
    "    if not use_as_evaluate:\n",
    "        mask = [t < day_current for t in databook[telescope_name]]\n",
    "        t_valid = np.array([t for t in databook[telescope_name]])[mask]\n",
    "\n",
    "        df_all = pd.concat([databook[telescope_name][t] for t in t_valid], axis =0)\n",
    "    else:\n",
    "        df_all = pd.concat([databook[telescope_name][t] for t in databook[telescope_name]], axis =0)\n",
    "    \n",
    "    # day and time filter\n",
    "    df_all = df_all[(df_all.date >= day_current) & (df_all.date < day_end)]\n",
    "    df_all['day'] = df_all.date.apply(lambda x: str(x).split(' ')[0])\n",
    "    df_all['time'] = df_all.date.apply(lambda x: int(str(x).split(' ')[1][0:2]))\n",
    "    df_all = df_all[(df_all.time >= int(start_time)) & (df_all.time <= int(end_time))]\n",
    "    \n",
    "    # calculate the day reward \n",
    "    df_tau_all = df_all.groupby('date').agg({'tau225':lambda x: list(x)}).reset_index()\n",
    "    df_tau_all['day'] = df_tau_all.date.apply(lambda x: str(x).split(' ')[0])\n",
    "    \n",
    "    df_tau_all['latest'] = df_tau_all['tau225'].apply(lambda x: - x[-1]) \n",
    "    df_tau_all['mean'] = df_tau_all['tau225'].apply(lambda x: - np.mean(x)) \n",
    "    df_tau_all['std'] = df_tau_all['tau225'].apply(lambda x: np.std(x))\n",
    "    \n",
    "    if time_std:\n",
    "        df_tau_day = pd.DataFrame(df_tau_all.groupby('day').apply(lambda x: np.mean(x['mean'] * np.exp(punish_level * x['std']))))\n",
    "        df_tau_day.columns = ['value']\n",
    "    \n",
    "    else:\n",
    "        df_tau_day = pd.DataFrame(df_tau_all.groupby('day')['latest'].mean())\n",
    "        df_tau_day.columns = ['value']\n",
    "\n",
    "        if furthure_std:\n",
    "            df_tau_day['value'] = df_tau_day['value'].values * np.exp(np.array(std_dict[telescope_name][:len(df_tau_day)]) * punish_level)  \n",
    "        \n",
    "    return df_tau_day"
   ]
  },
  {
   "cell_type": "markdown",
   "metadata": {},
   "source": [
    "**Weighted sum the reward for each telescope according to the total Gbytes.** \n",
    "( still need the suggested schedule for '12-meter','aste','iram')"
   ]
  },
  {
   "cell_type": "code",
   "execution_count": 25,
   "metadata": {},
   "outputs": [],
   "source": [
    "# weight_telescope = [0, 22830.7, 26153.8, 0, 0, 12123.0, 22215.3, 12123.0, 18030.7, 26953.8]\n",
    "\n",
    "# using the area (radius ** 2) of the telescope as weights \n",
    "weight_telescope = [12**2, 73**2, 12**2, 10**2, 30**2, 15**2, 32.5**2, 14.7**2, 10**2, 6**2]\n",
    "# schedule_telescope = [[0,1], [3,13], [3,15], [0,1], [0,1], [10,16], [6,16], [10,16], [8,16], [3,15]]\n",
    "schedule_telescope = [[0,23], [3,13], [3,15], [0,23], [0,23], [10,16], [6,16], [10,16], [8,16], [3,15]]\n",
    "\n",
    "\n",
    "dict_schedule = dict(zip(telescopes, schedule_telescope))\n",
    "dict_weight = dict(zip(telescopes, weight_telescope))"
   ]
  },
  {
   "cell_type": "code",
   "execution_count": 26,
   "metadata": {},
   "outputs": [],
   "source": [
    "def all_day_reward(day_current_str, end_day_str, time_std = False, furthure_std = False, punish_level = 1):\n",
    "    \"\"\"\n",
    "    calculate F(D) for D in range(day_current_str, end_day_str)\n",
    "    taking in every single telescope we currently have\n",
    "    weighted their f reward values\n",
    "    based on area_i/total_area\n",
    "    \"\"\"\n",
    "    # set up a dataframe\n",
    "    telescopes_day_reward = day_reward(telescopes[0], day_current_str, end_day_str, \\\n",
    "                                       dict_schedule[telescopes[0]][0], dict_schedule[telescopes[0]][1], \\\n",
    "                                       time_std = time_std, furthure_std = furthure_std, punish_level = punish_level) \\\n",
    "                                       * dict_weight[telescopes[0]] \n",
    "    # \n",
    "    for i in telescopes[1:]:\n",
    "        telescopes_day_reward += day_reward(i, day_current_str, end_day_str, \\\n",
    "                                            dict_schedule[i][0], dict_schedule[i][1], \\\n",
    "                                            time_std = time_std, furthure_std = furthure_std,  punish_level = punish_level)\\\n",
    "                                            * dict_weight[i] \n",
    "    return telescopes_day_reward / sum(weight_telescope)"
   ]
  },
  {
   "cell_type": "markdown",
   "metadata": {},
   "source": [
    "### Fixed Punish Level: Making Suggestions On-the-Go"
   ]
  },
  {
   "cell_type": "code",
   "execution_count": 27,
   "metadata": {},
   "outputs": [],
   "source": [
    "def decision_making_single_punishment(day_current_str, end_day_str, days_to_trigger, punish_level = 0):\n",
    "    # day_current_str: YYYY-MM-DD (str) (included)\n",
    "    # end_day_str: YYYY-MM-DD (str) (included)\n",
    "    # days_to_trigger: days to trigger (int)\n",
    "    each_day_reward = all_day_reward(day_current_str, end_day_str)\n",
    "    \n",
    "    # inflate the values on each day\n",
    "    a = np.array([n * ((1 + punish_level) ** i) for i, n in enumerate(each_day_reward['value'])])\n",
    "    \n",
    "    # select the 'days_to_trigger' number of days having maximum reward values\n",
    "    selected_days = np.array(each_day_reward.index)[np.argsort(a)[-1:-days_to_trigger-1:-1]]\n",
    "    if day_current_str in selected_days:\n",
    "        print('We suggest triggering on today {}'.format(day_current_str))\n",
    "        output = True\n",
    "    else: \n",
    "        print('We DO NOT suggest triggering on today {}'.format(day_current_str))\n",
    "        output = False\n",
    "    print('And we suggest to trigger by the following sequence: {}'.format(np.array(sorted(selected_days))))\n",
    "    dic = dict(zip(each_day_reward.index, a))\n",
    "    print('The discounted reward values for all the future days are ', dic)\n",
    "    return output\n",
    "          "
   ]
  },
  {
   "cell_type": "markdown",
   "metadata": {},
   "source": [
    "### Punish Level According To Standard Deviation (how far it is predicting)"
   ]
  },
  {
   "cell_type": "code",
   "execution_count": 28,
   "metadata": {},
   "outputs": [],
   "source": [
    "def decision_making_further_std_punishment(day_current_str, end_day_str, days_to_trigger, punish_level = 0):\n",
    "    # day_current_str: YYYY-MM-DD (str) (included)\n",
    "    # end_day_str: YYYY-MM-DD (str) (included)\n",
    "    # days_to_trigger: days to trigger (int)\n",
    "    each_day_reward = all_day_reward(day_current_str, end_day_str, furthure_std = True, punish_level = punish_level)\n",
    "\n",
    "    # select the 'days_to_trigger' number of days having maximum reward values\n",
    "    selected_days = each_day_reward.sort_values(by='value', ascending=False)[:days_to_trigger].index\n",
    "    \n",
    "    if day_current_str in selected_days:\n",
    "        print('We suggest triggering on today {}'.format(day_current_str))\n",
    "        output = True\n",
    "    else: \n",
    "        print('We DO NOT suggest triggering on today {}'.format(day_current_str))\n",
    "        output = False\n",
    "    print('And we suggest to trigger by the following sequence: {}'.format(np.array(sorted(selected_days))))\n",
    "    dic = each_day_reward.to_dict()['value']\n",
    "    print('The discounted reward values for all the future days are ', dic)\n",
    "    return output"
   ]
  },
  {
   "cell_type": "markdown",
   "metadata": {},
   "source": [
    "### Punish Level According To Standard Deviation (the predictions for a specific time)"
   ]
  },
  {
   "cell_type": "code",
   "execution_count": 29,
   "metadata": {},
   "outputs": [],
   "source": [
    "def decision_making_time_std_punishment(day_current_str, end_day_str, days_to_trigger, punish_level = 0):\n",
    "    # day_current_str: YYYY-MM-DD (str) (included)\n",
    "    # end_day_str: YYYY-MM-DD (str) (included)\n",
    "    # days_to_trigger: days to trigger (int)\n",
    "    each_day_reward = all_day_reward(day_current_str, end_day_str, time_std = True, punish_level = punish_level)\n",
    "\n",
    "    # select the 'days_to_trigger' number of days having maximum reward values\n",
    "    selected_days = each_day_reward.sort_values(by='value', ascending=False)[:days_to_trigger].index\n",
    "    \n",
    "    if day_current_str in selected_days:\n",
    "        print('We suggest triggering on today {}'.format(day_current_str))\n",
    "        output = True\n",
    "    else: \n",
    "        print('We DO NOT suggest triggering on today {}'.format(day_current_str))\n",
    "        output = False\n",
    "    print('And we suggest to trigger by the following sequence: {}'.format(np.array(sorted(selected_days))))\n",
    "    dic = each_day_reward.to_dict()['value']\n",
    "    print('The discounted reward values for all the future days are ', dic)\n",
    "    return output"
   ]
  },
  {
   "cell_type": "markdown",
   "metadata": {},
   "source": [
    "## Evaluations"
   ]
  },
  {
   "cell_type": "code",
   "execution_count": 30,
   "metadata": {},
   "outputs": [],
   "source": [
    "def simulate_process(days, num_days_trigger, function, punish_level):\n",
    "    decisions = []\n",
    "    for curr_day in days:\n",
    "        days_left = int(num_days_trigger - np.sum(decisions))\n",
    "        if days_left == 0:\n",
    "            pass\n",
    "        else:\n",
    "            decisions.append(\\\n",
    "                           function(curr_day, days[-1], days_left, punish_level))\n",
    "        print(\"\")\n",
    "    \n",
    "    suggested_path = days[decisions + [False] * (len(days) - len(decisions))]\n",
    "    return suggested_path\n"
   ]
  },
  {
   "cell_type": "code",
   "execution_count": 31,
   "metadata": {},
   "outputs": [],
   "source": [
    "def best_path_afterwards(start_day_str, end_day_str, days_to_trigger, exp_conversion, days_have_triggered = None):\n",
    "    # start_day_str: YYYY-MM-DD (str) (included)\n",
    "    # end_day_str: YYYY-MM-DD (str) (included)\n",
    "    # days_to_trigger: days to trigger (int)\n",
    "    # exp_conversion: function that map the negative value to [0, 1]\n",
    "    # days_have_triggered: days acutally triggered (list of str)\n",
    "    telescopes_day_reward = day_reward(telescopes[0], start_day_str, end_day_str, dict_schedule[telescopes[0]][0], dict_schedule[telescopes[0]][1], use_as_evaluate=True) * dict_weight[telescopes[0]]\n",
    "    for i in telescopes[1:]:\n",
    "        telescopes_day_reward += day_reward(i, start_day_str, end_day_str, dict_schedule[i][0], dict_schedule[i][1], use_as_evaluate=True) * dict_weight[i]\n",
    "    telescopes_day_reward = telescopes_day_reward / sum(weight_telescope)\n",
    "    \n",
    "    all_path = telescopes_day_reward.sort_values(by='value', ascending = False)\n",
    "    best_path = all_path[:days_to_trigger]\n",
    "    random_path = np.random.choice(all_path.index, days_to_trigger, replace = False)\n",
    "    print('The suggested path we predicted on the go is      {}'\\\n",
    "         .format(days_have_triggered))    \n",
    "    print('The best path to trigger based on ground-truth is {}'\\\n",
    "          .format(np.array(sorted(best_path.index))))\n",
    "    print('The random path to trigger is                     {}'\\\n",
    "          .format(np.array(sorted(random_path))))\n",
    "\n",
    "    if days_have_triggered is not None:\n",
    "        print('\\nThe score given to the suggested path is          {}'\\\n",
    "              .format(exp_conversion(all_path.loc[days_have_triggered]['value'])))\n",
    "    print('The score given to the best path is               {}'\\\n",
    "          .format(exp_conversion(best_path['value'])))\n",
    "    print('The score given to the random path is             {}'\\\n",
    "          .format(exp_conversion(all_path.loc[random_path]['value'])))\n",
    "\n",
    "    return all_path"
   ]
  },
  {
   "cell_type": "code",
   "execution_count": 32,
   "metadata": {
    "scrolled": true
   },
   "outputs": [
    {
     "name": "stdout",
     "output_type": "stream",
     "text": [
      "We suggest triggering on today 2019-10-25\n",
      "And we suggest to trigger by the following sequence: ['2019-10-25' '2019-10-27' '2019-10-28' '2019-10-29' '2019-10-30']\n",
      "The discounted reward values for all the future days are  {'2019-10-25': -0.10612448278227456, '2019-10-26': -0.21802948325759755, '2019-10-27': -0.13922399265034546, '2019-10-28': -0.16515534318952033, '2019-10-29': -0.12780313614753516, '2019-10-30': -0.21501760862483468, '2019-10-31': -0.7893367406665803, '2019-11-01': -0.7039510469383031, '2019-11-02': -0.7947625762150248, '2019-11-03': -0.342414736219849}\n",
      "\n",
      "We suggest triggering on today 2019-10-26\n",
      "And we suggest to trigger by the following sequence: ['2019-10-26' '2019-10-27' '2019-10-28' '2019-10-29']\n",
      "The discounted reward values for all the future days are  {'2019-10-26': -0.21206361760405334, '2019-10-27': -0.13669632941358814, '2019-10-28': -0.14029870452717355, '2019-10-29': -0.11627021728530805, '2019-10-30': -0.23120193892338126, '2019-10-31': -0.43971735865283673, '2019-11-01': -0.6301010642696038, '2019-11-02': -0.5354693958693882, '2019-11-03': -0.5693352461584094}\n",
      "\n",
      "We suggest triggering on today 2019-10-27\n",
      "And we suggest to trigger by the following sequence: ['2019-10-27' '2019-10-28' '2019-10-29']\n",
      "The discounted reward values for all the future days are  {'2019-10-27': -0.15144121512520653, '2019-10-28': -0.1384715530476277, '2019-10-29': -0.1290570519562231, '2019-10-30': -0.2685356780803065, '2019-10-31': -0.35701720925275116, '2019-11-01': -0.5022553696986761, '2019-11-02': -0.4736654384645155, '2019-11-03': -0.4840084102998281}\n",
      "\n",
      "We suggest triggering on today 2019-10-28\n",
      "And we suggest to trigger by the following sequence: ['2019-10-28' '2019-10-29']\n",
      "The discounted reward values for all the future days are  {'2019-10-28': -0.11199452761486733, '2019-10-29': -0.12516249445694655, '2019-10-30': -0.21842937408274346, '2019-10-31': -0.32106664709974114, '2019-11-01': -0.3342495162371514, '2019-11-02': -0.41985065740866856, '2019-11-03': -0.5788039349940898}\n",
      "\n",
      "We suggest triggering on today 2019-10-29\n",
      "And we suggest to trigger by the following sequence: ['2019-10-29']\n",
      "The discounted reward values for all the future days are  {'2019-10-29': -0.0851504981566382, '2019-10-30': -0.19440729331272935, '2019-10-31': -0.30733063920167103, '2019-11-01': -0.313503359418969, '2019-11-02': -0.40465802357021635, '2019-11-03': -0.4368729332359039}\n",
      "\n",
      "\n",
      "\n",
      "\n",
      "\n",
      "\n"
     ]
    }
   ],
   "source": [
    "whole_time_window = all_day_reward('2019-10-25', '2019-11-03')\n",
    "days = np.array(whole_time_window.index)\n",
    "suggested_path = simulate_process(days, 5, decision_making_single_punishment, 0.1)"
   ]
  },
  {
   "cell_type": "code",
   "execution_count": 33,
   "metadata": {
    "scrolled": true
   },
   "outputs": [
    {
     "name": "stdout",
     "output_type": "stream",
     "text": [
      "We suggest triggering on today 2019-10-25\n",
      "And we suggest to trigger by the following sequence: ['2019-10-25' '2019-10-27' '2019-10-28' '2019-10-29' '2019-10-30']\n",
      "The discounted reward values for all the future days are  {'2019-10-25': -0.10838733912254847, '2019-10-26': -0.2027506749050263, '2019-10-27': -0.11732065991731129, '2019-10-28': -0.12668852927464322, '2019-10-29': -0.08929525049335305, '2019-10-30': -0.1369721006429162, '2019-10-31': -0.4587811693696785, '2019-11-01': -0.37064468282894303, '2019-11-02': -0.3824864853028123, '2019-11-03': -0.14742544205823419}\n",
      "\n",
      "We DO NOT suggest triggering on today 2019-10-26\n",
      "And we suggest to trigger by the following sequence: ['2019-10-27' '2019-10-28' '2019-10-29' '2019-10-30']\n",
      "The discounted reward values for all the future days are  {'2019-10-26': -0.21751951416898518, '2019-10-27': -0.1266610115616481, '2019-10-28': -0.11806856003272245, '2019-10-29': -0.08901184479592893, '2019-10-30': -0.16054053168875346, '2019-10-31': -0.27815866343958856, '2019-11-01': -0.36534349466861027, '2019-11-02': -0.2814753376435025, '2019-11-03': -0.27308773536250996}\n",
      "\n",
      "We suggest triggering on today 2019-10-27\n",
      "And we suggest to trigger by the following sequence: ['2019-10-27' '2019-10-28' '2019-10-29' '2019-10-30']\n",
      "The discounted reward values for all the future days are  {'2019-10-27': -0.15499410289890841, '2019-10-28': -0.12795082594722135, '2019-10-29': -0.1085568275925969, '2019-10-30': -0.20451923208816358, '2019-10-31': -0.24715845437722977, '2019-11-01': -0.3189217525508641, '2019-11-02': -0.27243223933361976, '2019-11-03': -0.25321157144914086}\n",
      "\n",
      "We suggest triggering on today 2019-10-28\n",
      "And we suggest to trigger by the following sequence: ['2019-10-28' '2019-10-29' '2019-10-30']\n",
      "The discounted reward values for all the future days are  {'2019-10-28': -0.11409969394934598, '2019-10-29': -0.1156170141254594, '2019-10-30': -0.1830504227808229, '2019-10-31': -0.2438106945797999, '2019-11-01': -0.23170487580690877, '2019-11-02': -0.26523355668752074, '2019-11-03': -0.33469196882720303}\n",
      "\n",
      "We suggest triggering on today 2019-10-29\n",
      "And we suggest to trigger by the following sequence: ['2019-10-29' '2019-10-30']\n",
      "The discounted reward values for all the future days are  {'2019-10-29': -0.08669066226859039, '2019-10-30': -0.1789794056539687, '2019-10-31': -0.25684999298823447, '2019-11-01': -0.23863908069864215, '2019-11-02': -0.28012223533569175, '2019-11-03': -0.2769650749251775}\n",
      "\n",
      "We suggest triggering on today 2019-10-30\n",
      "And we suggest to trigger by the following sequence: ['2019-10-30']\n",
      "The discounted reward values for all the future days are  {'2019-10-30': -0.15554489890944748, '2019-10-31': -0.27638501548239736, '2019-11-01': -0.2421844887014592, '2019-11-02': -0.26696006075831236, '2019-11-03': -0.36064291537434157}\n",
      "\n",
      "\n",
      "\n",
      "\n",
      "\n"
     ]
    }
   ],
   "source": [
    "whole_time_window = all_day_reward('2019-10-25', '2019-11-03')\n",
    "days = np.array(whole_time_window.index)\n",
    "suggested_path = simulate_process(days, 5, decision_making_further_std_punishment, 0.1)"
   ]
  },
  {
   "cell_type": "code",
   "execution_count": 34,
   "metadata": {
    "scrolled": true
   },
   "outputs": [
    {
     "name": "stdout",
     "output_type": "stream",
     "text": [
      "We suggest triggering on today 2019-10-25\n",
      "And we suggest to trigger by the following sequence: ['2019-10-25' '2019-10-27' '2019-10-28' '2019-10-29' '2019-10-30']\n",
      "The discounted reward values for all the future days are  {'2019-10-25': -0.1389271907627759, '2019-10-26': -0.16997397152330457, '2019-10-27': -0.11662326875709086, '2019-10-28': -0.12683852215908362, '2019-10-29': -0.09154393644279803, '2019-10-30': -0.13517346873402133, '2019-10-31': -0.3301863534582316, '2019-11-01': -0.28509887176722426, '2019-11-02': -0.3138082090200378, '2019-11-03': -0.16421794599606257}\n",
      "\n",
      "We DO NOT suggest triggering on today 2019-10-26\n",
      "And we suggest to trigger by the following sequence: ['2019-10-27' '2019-10-28' '2019-10-29' '2019-10-30']\n",
      "The discounted reward values for all the future days are  {'2019-10-26': -0.19169525941847954, '2019-10-27': -0.11952084908919611, '2019-10-28': -0.12224063206085085, '2019-10-29': -0.09424505816541424, '2019-10-30': -0.15329843488336603, '2019-10-31': -0.3150815524832958, '2019-11-01': -0.3422369569768324, '2019-11-02': -0.2763146060255458, '2019-11-03': -0.18865078968650645}\n",
      "\n",
      "We suggest triggering on today 2019-10-27\n",
      "And we suggest to trigger by the following sequence: ['2019-10-27' '2019-10-28' '2019-10-29' '2019-10-30']\n",
      "The discounted reward values for all the future days are  {'2019-10-27': -0.12284430244860177, '2019-10-28': -0.11970859838758918, '2019-10-29': -0.09522050236683474, '2019-10-30': -0.1699247111695898, '2019-10-31': -0.25785876072919195, '2019-11-01': -0.3148287986162345, '2019-11-02': -0.2666157467543009, '2019-11-03': -0.1930321536468142}\n",
      "\n",
      "We suggest triggering on today 2019-10-28\n",
      "And we suggest to trigger by the following sequence: ['2019-10-28' '2019-10-29' '2019-10-30']\n",
      "The discounted reward values for all the future days are  {'2019-10-28': -0.11946491114762982, '2019-10-29': -0.09818995500710387, '2019-10-30': -0.174503132376195, '2019-10-31': -0.26093500536411923, '2019-11-01': -0.25425382986693157, '2019-11-02': -0.26459638747950986, '2019-11-03': -0.21904253173539473}\n",
      "\n",
      "We suggest triggering on today 2019-10-29\n",
      "And we suggest to trigger by the following sequence: ['2019-10-29' '2019-10-30']\n",
      "The discounted reward values for all the future days are  {'2019-10-29': -0.09762087629668817, '2019-10-30': -0.1739895349675423, '2019-10-31': -0.2573578611031879, '2019-11-01': -0.24955630565573497, '2019-11-02': -0.2696798496015366, '2019-11-03': -0.24312794300958018}\n",
      "\n",
      "We suggest triggering on today 2019-10-30\n",
      "And we suggest to trigger by the following sequence: ['2019-10-30']\n",
      "The discounted reward values for all the future days are  {'2019-10-30': -0.1726649647940294, '2019-10-31': -0.2591747380009803, '2019-11-01': -0.2487048881208436, '2019-11-02': -0.27405211967456256, '2019-11-03': -0.31140053032386394}\n",
      "\n",
      "\n",
      "\n",
      "\n",
      "\n"
     ]
    }
   ],
   "source": [
    "whole_time_window = all_day_reward('2019-10-25', '2019-11-03')\n",
    "days = np.array(whole_time_window.index)\n",
    "suggested_path = simulate_process(days, 5, decision_making_time_std_punishment, 0.1)"
   ]
  },
  {
   "cell_type": "code",
   "execution_count": 35,
   "metadata": {},
   "outputs": [],
   "source": [
    "# exp_function = lambda x: 2 / (1 + np.exp(- x.sum()))\n",
    "exp_function = lambda x: np.exp(np.sum(x))"
   ]
  },
  {
   "cell_type": "code",
   "execution_count": 36,
   "metadata": {},
   "outputs": [
    {
     "name": "stdout",
     "output_type": "stream",
     "text": [
      "The suggested path we predicted on the go is      ['2019-10-25' '2019-10-27' '2019-10-28' '2019-10-29' '2019-10-30']\n",
      "The best path to trigger based on ground-truth is ['2019-10-25' '2019-10-26' '2019-10-27' '2019-10-28' '2019-10-29']\n",
      "The random path to trigger is                     ['2019-10-25' '2019-10-26' '2019-10-27' '2019-10-31' '2019-11-03']\n",
      "\n",
      "The score given to the suggested path is          0.5707205248354617\n",
      "The score given to the best path is               0.5882383229342707\n",
      "The score given to the random path is             0.4213663542519363\n"
     ]
    }
   ],
   "source": [
    "np.random.seed(2019)\n",
    "all_state = best_path_afterwards('2019-10-25', '2019-11-03', 5, exp_function, days_have_triggered = suggested_path)\n"
   ]
  }
 ],
 "metadata": {
  "kernelspec": {
   "display_name": "Python 3",
   "language": "python",
   "name": "python3"
  },
  "language_info": {
   "codemirror_mode": {
    "name": "ipython",
    "version": 3
   },
   "file_extension": ".py",
   "mimetype": "text/x-python",
   "name": "python",
   "nbconvert_exporter": "python",
   "pygments_lexer": "ipython3",
   "version": "3.7.3"
  }
 },
 "nbformat": 4,
 "nbformat_minor": 2
}
